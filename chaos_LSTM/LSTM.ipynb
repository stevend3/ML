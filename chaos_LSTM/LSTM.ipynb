{
  "nbformat": 4,
  "nbformat_minor": 0,
  "metadata": {
    "kernelspec": {
      "display_name": "Python 3",
      "language": "python",
      "name": "python3"
    },
    "language_info": {
      "codemirror_mode": {
        "name": "ipython",
        "version": 3
      },
      "file_extension": ".py",
      "mimetype": "text/x-python",
      "name": "python",
      "nbconvert_exporter": "python",
      "pygments_lexer": "ipython3",
      "version": "3.7.4"
    },
    "colab": {
      "name": "LSTM.ipynb",
      "provenance": []
    },
    "accelerator": "GPU"
  },
  "cells": [
    {
      "cell_type": "code",
      "metadata": {
        "id": "urF_eNifkiIk"
      },
      "source": [
        "import pickle\n",
        "\n",
        "import pandas as pd\n",
        "import numpy as np\n",
        "import matplotlib.pyplot as plt\n",
        "%matplotlib inline\n",
        "\n",
        "import torch\n",
        "import torch.nn as nn\n",
        "from torch.utils.data import TensorDataset\n",
        "\n",
        "from sklearn.model_selection import train_test_split\n",
        "from sklearn.preprocessing import MinMaxScaler\n",
        "\n",
        "from tqdm import tqdm"
      ],
      "execution_count": null,
      "outputs": []
    },
    {
      "cell_type": "code",
      "metadata": {
        "id": "g8EGKmFZkiIn"
      },
      "source": [
        "# unpickle data\n",
        "with open('training_data_N100000.pickle', 'rb') as f:\n",
        "    emp = pickle.load(f)\n",
        "\n",
        "\n",
        "# pickle stores data as a dictionary\n",
        "# this dictionary has 3 keys; the values are lists of lists\n",
        "# 10,000 lists with 40 values in each list\n",
        "# we are only interested in the \"train_input_sequence\"\n",
        "# save the values from the \"train_input_sequence\"\n",
        "value = emp.get(\"train_input_sequence\")"
      ],
      "execution_count": null,
      "outputs": []
    },
    {
      "cell_type": "code",
      "metadata": {
        "id": "icIyP0WBkiIq",
        "colab": {
          "base_uri": "https://localhost:8080/",
          "height": 439
        },
        "outputId": "d1f7f7c4-bbbe-4b06-e8ea-ac1c83f5765a"
      },
      "source": [
        "# convert list of lists in pandas dataframe\n",
        "chaos_df = pd.DataFrame.from_records(value)\n",
        "chaos_df"
      ],
      "execution_count": null,
      "outputs": [
        {
          "output_type": "execute_result",
          "data": {
            "text/html": [
              "<div>\n",
              "<style scoped>\n",
              "    .dataframe tbody tr th:only-of-type {\n",
              "        vertical-align: middle;\n",
              "    }\n",
              "\n",
              "    .dataframe tbody tr th {\n",
              "        vertical-align: top;\n",
              "    }\n",
              "\n",
              "    .dataframe thead th {\n",
              "        text-align: right;\n",
              "    }\n",
              "</style>\n",
              "<table border=\"1\" class=\"dataframe\">\n",
              "  <thead>\n",
              "    <tr style=\"text-align: right;\">\n",
              "      <th></th>\n",
              "      <th>0</th>\n",
              "      <th>1</th>\n",
              "      <th>2</th>\n",
              "      <th>3</th>\n",
              "      <th>4</th>\n",
              "      <th>5</th>\n",
              "      <th>6</th>\n",
              "      <th>7</th>\n",
              "      <th>8</th>\n",
              "      <th>9</th>\n",
              "      <th>10</th>\n",
              "      <th>11</th>\n",
              "      <th>12</th>\n",
              "      <th>13</th>\n",
              "      <th>14</th>\n",
              "      <th>15</th>\n",
              "      <th>16</th>\n",
              "      <th>17</th>\n",
              "      <th>18</th>\n",
              "      <th>19</th>\n",
              "      <th>20</th>\n",
              "      <th>21</th>\n",
              "      <th>22</th>\n",
              "      <th>23</th>\n",
              "      <th>24</th>\n",
              "      <th>25</th>\n",
              "      <th>26</th>\n",
              "      <th>27</th>\n",
              "      <th>28</th>\n",
              "      <th>29</th>\n",
              "      <th>30</th>\n",
              "      <th>31</th>\n",
              "      <th>32</th>\n",
              "      <th>33</th>\n",
              "      <th>34</th>\n",
              "      <th>35</th>\n",
              "      <th>36</th>\n",
              "      <th>37</th>\n",
              "      <th>38</th>\n",
              "      <th>39</th>\n",
              "    </tr>\n",
              "  </thead>\n",
              "  <tbody>\n",
              "    <tr>\n",
              "      <th>0</th>\n",
              "      <td>0.279228</td>\n",
              "      <td>8.091169</td>\n",
              "      <td>1.098011</td>\n",
              "      <td>-0.463161</td>\n",
              "      <td>3.888320</td>\n",
              "      <td>8.665831</td>\n",
              "      <td>4.122427</td>\n",
              "      <td>3.013807</td>\n",
              "      <td>-2.558740</td>\n",
              "      <td>2.015656</td>\n",
              "      <td>-1.454905</td>\n",
              "      <td>-3.492466</td>\n",
              "      <td>3.817715</td>\n",
              "      <td>15.570893</td>\n",
              "      <td>2.318342</td>\n",
              "      <td>3.349483</td>\n",
              "      <td>-2.163914</td>\n",
              "      <td>-1.420784</td>\n",
              "      <td>-3.493829</td>\n",
              "      <td>1.104612</td>\n",
              "      <td>2.208701</td>\n",
              "      <td>1.523153</td>\n",
              "      <td>3.779100</td>\n",
              "      <td>10.088348</td>\n",
              "      <td>-0.110143</td>\n",
              "      <td>-1.277557</td>\n",
              "      <td>4.562407</td>\n",
              "      <td>4.596546</td>\n",
              "      <td>-3.042859</td>\n",
              "      <td>3.183928</td>\n",
              "      <td>3.194883</td>\n",
              "      <td>8.567653</td>\n",
              "      <td>-4.729759</td>\n",
              "      <td>0.054221</td>\n",
              "      <td>0.406357</td>\n",
              "      <td>3.280737</td>\n",
              "      <td>4.744961</td>\n",
              "      <td>7.251823</td>\n",
              "      <td>-2.394936</td>\n",
              "      <td>2.396356</td>\n",
              "    </tr>\n",
              "    <tr>\n",
              "      <th>1</th>\n",
              "      <td>0.639190</td>\n",
              "      <td>8.103688</td>\n",
              "      <td>1.114733</td>\n",
              "      <td>-0.405329</td>\n",
              "      <td>3.916085</td>\n",
              "      <td>8.855433</td>\n",
              "      <td>4.086295</td>\n",
              "      <td>2.622038</td>\n",
              "      <td>-2.489846</td>\n",
              "      <td>2.201283</td>\n",
              "      <td>-1.360045</td>\n",
              "      <td>-3.378496</td>\n",
              "      <td>3.296093</td>\n",
              "      <td>15.719268</td>\n",
              "      <td>2.335934</td>\n",
              "      <td>3.003640</td>\n",
              "      <td>-2.157252</td>\n",
              "      <td>-1.164615</td>\n",
              "      <td>-3.401325</td>\n",
              "      <td>1.070747</td>\n",
              "      <td>2.340784</td>\n",
              "      <td>1.670555</td>\n",
              "      <td>3.964520</td>\n",
              "      <td>10.013765</td>\n",
              "      <td>-0.518284</td>\n",
              "      <td>-1.148164</td>\n",
              "      <td>4.557367</td>\n",
              "      <td>4.568919</td>\n",
              "      <td>-2.973412</td>\n",
              "      <td>3.286775</td>\n",
              "      <td>3.631329</td>\n",
              "      <td>8.309227</td>\n",
              "      <td>-4.845136</td>\n",
              "      <td>0.533307</td>\n",
              "      <td>0.525735</td>\n",
              "      <td>3.368705</td>\n",
              "      <td>5.017679</td>\n",
              "      <td>7.000191</td>\n",
              "      <td>-2.439430</td>\n",
              "      <td>2.632433</td>\n",
              "    </tr>\n",
              "    <tr>\n",
              "      <th>2</th>\n",
              "      <td>1.020907</td>\n",
              "      <td>8.109028</td>\n",
              "      <td>1.105917</td>\n",
              "      <td>-0.348018</td>\n",
              "      <td>3.947265</td>\n",
              "      <td>9.040057</td>\n",
              "      <td>4.011209</td>\n",
              "      <td>2.235900</td>\n",
              "      <td>-2.408282</td>\n",
              "      <td>2.370115</td>\n",
              "      <td>-1.266747</td>\n",
              "      <td>-3.255328</td>\n",
              "      <td>2.798576</td>\n",
              "      <td>15.834258</td>\n",
              "      <td>2.378263</td>\n",
              "      <td>2.653162</td>\n",
              "      <td>-2.131953</td>\n",
              "      <td>-0.921544</td>\n",
              "      <td>-3.301191</td>\n",
              "      <td>1.044601</td>\n",
              "      <td>2.470625</td>\n",
              "      <td>1.825347</td>\n",
              "      <td>4.155992</td>\n",
              "      <td>9.913809</td>\n",
              "      <td>-0.922796</td>\n",
              "      <td>-0.998443</td>\n",
              "      <td>4.555152</td>\n",
              "      <td>4.538549</td>\n",
              "      <td>-2.899794</td>\n",
              "      <td>3.374232</td>\n",
              "      <td>4.062660</td>\n",
              "      <td>8.010899</td>\n",
              "      <td>-4.947711</td>\n",
              "      <td>0.995952</td>\n",
              "      <td>0.683484</td>\n",
              "      <td>3.460898</td>\n",
              "      <td>5.280053</td>\n",
              "      <td>6.728976</td>\n",
              "      <td>-2.479989</td>\n",
              "      <td>2.853503</td>\n",
              "    </tr>\n",
              "    <tr>\n",
              "      <th>3</th>\n",
              "      <td>1.422363</td>\n",
              "      <td>8.105092</td>\n",
              "      <td>1.070217</td>\n",
              "      <td>-0.290007</td>\n",
              "      <td>3.981976</td>\n",
              "      <td>9.218281</td>\n",
              "      <td>3.896544</td>\n",
              "      <td>1.860655</td>\n",
              "      <td>-2.315637</td>\n",
              "      <td>2.522886</td>\n",
              "      <td>-1.174799</td>\n",
              "      <td>-3.124848</td>\n",
              "      <td>2.327383</td>\n",
              "      <td>15.918859</td>\n",
              "      <td>2.440564</td>\n",
              "      <td>2.295181</td>\n",
              "      <td>-2.090417</td>\n",
              "      <td>-0.692572</td>\n",
              "      <td>-3.194081</td>\n",
              "      <td>1.025737</td>\n",
              "      <td>2.598601</td>\n",
              "      <td>1.987915</td>\n",
              "      <td>4.352890</td>\n",
              "      <td>9.786361</td>\n",
              "      <td>-1.320908</td>\n",
              "      <td>-0.829877</td>\n",
              "      <td>4.557959</td>\n",
              "      <td>4.504671</td>\n",
              "      <td>-2.822918</td>\n",
              "      <td>3.447214</td>\n",
              "      <td>4.485192</td>\n",
              "      <td>7.673067</td>\n",
              "      <td>-5.037566</td>\n",
              "      <td>1.436631</td>\n",
              "      <td>0.879364</td>\n",
              "      <td>3.558367</td>\n",
              "      <td>5.529729</td>\n",
              "      <td>6.438319</td>\n",
              "      <td>-2.516258</td>\n",
              "      <td>3.057959</td>\n",
              "    </tr>\n",
              "    <tr>\n",
              "      <th>4</th>\n",
              "      <td>1.841218</td>\n",
              "      <td>8.089587</td>\n",
              "      <td>1.006697</td>\n",
              "      <td>-0.230055</td>\n",
              "      <td>4.020474</td>\n",
              "      <td>9.388586</td>\n",
              "      <td>3.742280</td>\n",
              "      <td>1.501600</td>\n",
              "      <td>-2.213724</td>\n",
              "      <td>2.660626</td>\n",
              "      <td>-1.084034</td>\n",
              "      <td>-2.988791</td>\n",
              "      <td>1.884208</td>\n",
              "      <td>15.975813</td>\n",
              "      <td>2.517204</td>\n",
              "      <td>1.927703</td>\n",
              "      <td>-2.034504</td>\n",
              "      <td>-0.478365</td>\n",
              "      <td>-3.080724</td>\n",
              "      <td>1.013676</td>\n",
              "      <td>2.725084</td>\n",
              "      <td>2.158627</td>\n",
              "      <td>4.554402</td>\n",
              "      <td>9.629341</td>\n",
              "      <td>-1.709887</td>\n",
              "      <td>-0.644488</td>\n",
              "      <td>4.568065</td>\n",
              "      <td>4.466512</td>\n",
              "      <td>-2.743724</td>\n",
              "      <td>3.506743</td>\n",
              "      <td>4.895504</td>\n",
              "      <td>7.296767</td>\n",
              "      <td>-5.114860</td>\n",
              "      <td>1.849911</td>\n",
              "      <td>1.112464</td>\n",
              "      <td>3.661977</td>\n",
              "      <td>5.764224</td>\n",
              "      <td>6.128518</td>\n",
              "      <td>-2.547773</td>\n",
              "      <td>3.244287</td>\n",
              "    </tr>\n",
              "    <tr>\n",
              "      <th>...</th>\n",
              "      <td>...</td>\n",
              "      <td>...</td>\n",
              "      <td>...</td>\n",
              "      <td>...</td>\n",
              "      <td>...</td>\n",
              "      <td>...</td>\n",
              "      <td>...</td>\n",
              "      <td>...</td>\n",
              "      <td>...</td>\n",
              "      <td>...</td>\n",
              "      <td>...</td>\n",
              "      <td>...</td>\n",
              "      <td>...</td>\n",
              "      <td>...</td>\n",
              "      <td>...</td>\n",
              "      <td>...</td>\n",
              "      <td>...</td>\n",
              "      <td>...</td>\n",
              "      <td>...</td>\n",
              "      <td>...</td>\n",
              "      <td>...</td>\n",
              "      <td>...</td>\n",
              "      <td>...</td>\n",
              "      <td>...</td>\n",
              "      <td>...</td>\n",
              "      <td>...</td>\n",
              "      <td>...</td>\n",
              "      <td>...</td>\n",
              "      <td>...</td>\n",
              "      <td>...</td>\n",
              "      <td>...</td>\n",
              "      <td>...</td>\n",
              "      <td>...</td>\n",
              "      <td>...</td>\n",
              "      <td>...</td>\n",
              "      <td>...</td>\n",
              "      <td>...</td>\n",
              "      <td>...</td>\n",
              "      <td>...</td>\n",
              "      <td>...</td>\n",
              "    </tr>\n",
              "    <tr>\n",
              "      <th>99995</th>\n",
              "      <td>1.060426</td>\n",
              "      <td>5.989071</td>\n",
              "      <td>6.247471</td>\n",
              "      <td>-5.152830</td>\n",
              "      <td>-3.157959</td>\n",
              "      <td>-1.220203</td>\n",
              "      <td>4.338162</td>\n",
              "      <td>7.673255</td>\n",
              "      <td>8.757387</td>\n",
              "      <td>4.786347</td>\n",
              "      <td>-5.615753</td>\n",
              "      <td>2.634875</td>\n",
              "      <td>2.750387</td>\n",
              "      <td>4.212863</td>\n",
              "      <td>8.156296</td>\n",
              "      <td>1.013503</td>\n",
              "      <td>1.332969</td>\n",
              "      <td>5.481186</td>\n",
              "      <td>4.736040</td>\n",
              "      <td>-4.034887</td>\n",
              "      <td>3.426418</td>\n",
              "      <td>2.450849</td>\n",
              "      <td>3.570506</td>\n",
              "      <td>0.789801</td>\n",
              "      <td>1.046649</td>\n",
              "      <td>7.532481</td>\n",
              "      <td>9.264381</td>\n",
              "      <td>-3.524874</td>\n",
              "      <td>5.483455</td>\n",
              "      <td>15.669940</td>\n",
              "      <td>2.116784</td>\n",
              "      <td>-0.850408</td>\n",
              "      <td>2.250179</td>\n",
              "      <td>2.714730</td>\n",
              "      <td>1.591655</td>\n",
              "      <td>1.194200</td>\n",
              "      <td>2.349632</td>\n",
              "      <td>5.606107</td>\n",
              "      <td>10.276412</td>\n",
              "      <td>2.194318</td>\n",
              "    </tr>\n",
              "    <tr>\n",
              "      <th>99996</th>\n",
              "      <td>1.065238</td>\n",
              "      <td>6.072060</td>\n",
              "      <td>5.899901</td>\n",
              "      <td>-5.541860</td>\n",
              "      <td>-2.633883</td>\n",
              "      <td>-1.386565</td>\n",
              "      <td>4.254071</td>\n",
              "      <td>8.127178</td>\n",
              "      <td>8.763468</td>\n",
              "      <td>3.654184</td>\n",
              "      <td>-5.714779</td>\n",
              "      <td>2.781539</td>\n",
              "      <td>3.092499</td>\n",
              "      <td>4.427563</td>\n",
              "      <td>8.089422</td>\n",
              "      <td>0.863958</td>\n",
              "      <td>1.394922</td>\n",
              "      <td>5.576008</td>\n",
              "      <td>4.492691</td>\n",
              "      <td>-3.988338</td>\n",
              "      <td>3.571460</td>\n",
              "      <td>2.790045</td>\n",
              "      <td>3.564272</td>\n",
              "      <td>0.827730</td>\n",
              "      <td>1.168133</td>\n",
              "      <td>7.648268</td>\n",
              "      <td>8.919529</td>\n",
              "      <td>-3.589337</td>\n",
              "      <td>5.291559</td>\n",
              "      <td>15.893294</td>\n",
              "      <td>1.204494</td>\n",
              "      <td>-0.965247</td>\n",
              "      <td>2.316958</td>\n",
              "      <td>2.844904</td>\n",
              "      <td>1.646298</td>\n",
              "      <td>1.275909</td>\n",
              "      <td>2.476367</td>\n",
              "      <td>5.866608</td>\n",
              "      <td>10.249753</td>\n",
              "      <td>1.794484</td>\n",
              "    </tr>\n",
              "    <tr>\n",
              "      <th>99997</th>\n",
              "      <td>1.089245</td>\n",
              "      <td>6.155343</td>\n",
              "      <td>5.527820</td>\n",
              "      <td>-5.869672</td>\n",
              "      <td>-2.101007</td>\n",
              "      <td>-1.506767</td>\n",
              "      <td>4.156526</td>\n",
              "      <td>8.571895</td>\n",
              "      <td>8.681358</td>\n",
              "      <td>2.493926</td>\n",
              "      <td>-5.739380</td>\n",
              "      <td>2.842160</td>\n",
              "      <td>3.449406</td>\n",
              "      <td>4.653021</td>\n",
              "      <td>7.996090</td>\n",
              "      <td>0.705794</td>\n",
              "      <td>1.461594</td>\n",
              "      <td>5.670944</td>\n",
              "      <td>4.245870</td>\n",
              "      <td>-3.935679</td>\n",
              "      <td>3.690944</td>\n",
              "      <td>3.133598</td>\n",
              "      <td>3.546059</td>\n",
              "      <td>0.857700</td>\n",
              "      <td>1.290857</td>\n",
              "      <td>7.768230</td>\n",
              "      <td>8.557568</td>\n",
              "      <td>-3.673348</td>\n",
              "      <td>5.076812</td>\n",
              "      <td>16.061063</td>\n",
              "      <td>0.312815</td>\n",
              "      <td>-0.958510</td>\n",
              "      <td>2.372558</td>\n",
              "      <td>2.977835</td>\n",
              "      <td>1.699605</td>\n",
              "      <td>1.356563</td>\n",
              "      <td>2.607912</td>\n",
              "      <td>6.132979</td>\n",
              "      <td>10.190087</td>\n",
              "      <td>1.375291</td>\n",
              "    </tr>\n",
              "    <tr>\n",
              "      <th>99998</th>\n",
              "      <td>1.132336</td>\n",
              "      <td>6.239663</td>\n",
              "      <td>5.133349</td>\n",
              "      <td>-6.138031</td>\n",
              "      <td>-1.569429</td>\n",
              "      <td>-1.576776</td>\n",
              "      <td>4.051260</td>\n",
              "      <td>9.000456</td>\n",
              "      <td>8.502155</td>\n",
              "      <td>1.327043</td>\n",
              "      <td>-5.692411</td>\n",
              "      <td>2.815445</td>\n",
              "      <td>3.810664</td>\n",
              "      <td>4.890466</td>\n",
              "      <td>7.873172</td>\n",
              "      <td>0.539722</td>\n",
              "      <td>1.532765</td>\n",
              "      <td>5.766107</td>\n",
              "      <td>3.995626</td>\n",
              "      <td>-3.878132</td>\n",
              "      <td>3.785410</td>\n",
              "      <td>3.478772</td>\n",
              "      <td>3.515807</td>\n",
              "      <td>0.880016</td>\n",
              "      <td>1.414700</td>\n",
              "      <td>7.891334</td>\n",
              "      <td>8.176435</td>\n",
              "      <td>-3.776176</td>\n",
              "      <td>4.838429</td>\n",
              "      <td>16.178954</td>\n",
              "      <td>-0.531715</td>\n",
              "      <td>-0.833693</td>\n",
              "      <td>2.420084</td>\n",
              "      <td>3.110459</td>\n",
              "      <td>1.751899</td>\n",
              "      <td>1.436239</td>\n",
              "      <td>2.744603</td>\n",
              "      <td>6.404370</td>\n",
              "      <td>10.093426</td>\n",
              "      <td>0.940331</td>\n",
              "    </tr>\n",
              "    <tr>\n",
              "      <th>99999</th>\n",
              "      <td>1.193751</td>\n",
              "      <td>6.325739</td>\n",
              "      <td>4.718517</td>\n",
              "      <td>-6.349721</td>\n",
              "      <td>-1.049164</td>\n",
              "      <td>-1.594842</td>\n",
              "      <td>3.944105</td>\n",
              "      <td>9.406570</td>\n",
              "      <td>8.219113</td>\n",
              "      <td>0.177058</td>\n",
              "      <td>-5.578167</td>\n",
              "      <td>2.705191</td>\n",
              "      <td>4.165589</td>\n",
              "      <td>5.141010</td>\n",
              "      <td>7.717793</td>\n",
              "      <td>0.366593</td>\n",
              "      <td>1.608024</td>\n",
              "      <td>5.861588</td>\n",
              "      <td>3.741954</td>\n",
              "      <td>-3.816695</td>\n",
              "      <td>3.855604</td>\n",
              "      <td>3.822958</td>\n",
              "      <td>3.473700</td>\n",
              "      <td>0.895144</td>\n",
              "      <td>1.539526</td>\n",
              "      <td>8.016459</td>\n",
              "      <td>7.774133</td>\n",
              "      <td>-3.896540</td>\n",
              "      <td>4.575192</td>\n",
              "      <td>16.253938</td>\n",
              "      <td>-1.303810</td>\n",
              "      <td>-0.599019</td>\n",
              "      <td>2.466101</td>\n",
              "      <td>3.239835</td>\n",
              "      <td>1.803413</td>\n",
              "      <td>1.515077</td>\n",
              "      <td>2.886770</td>\n",
              "      <td>6.679697</td>\n",
              "      <td>9.955801</td>\n",
              "      <td>0.493642</td>\n",
              "    </tr>\n",
              "  </tbody>\n",
              "</table>\n",
              "<p>100000 rows × 40 columns</p>\n",
              "</div>"
            ],
            "text/plain": [
              "             0         1         2   ...        37         38        39\n",
              "0      0.279228  8.091169  1.098011  ...  7.251823  -2.394936  2.396356\n",
              "1      0.639190  8.103688  1.114733  ...  7.000191  -2.439430  2.632433\n",
              "2      1.020907  8.109028  1.105917  ...  6.728976  -2.479989  2.853503\n",
              "3      1.422363  8.105092  1.070217  ...  6.438319  -2.516258  3.057959\n",
              "4      1.841218  8.089587  1.006697  ...  6.128518  -2.547773  3.244287\n",
              "...         ...       ...       ...  ...       ...        ...       ...\n",
              "99995  1.060426  5.989071  6.247471  ...  5.606107  10.276412  2.194318\n",
              "99996  1.065238  6.072060  5.899901  ...  5.866608  10.249753  1.794484\n",
              "99997  1.089245  6.155343  5.527820  ...  6.132979  10.190087  1.375291\n",
              "99998  1.132336  6.239663  5.133349  ...  6.404370  10.093426  0.940331\n",
              "99999  1.193751  6.325739  4.718517  ...  6.679697   9.955801  0.493642\n",
              "\n",
              "[100000 rows x 40 columns]"
            ]
          },
          "metadata": {
            "tags": []
          },
          "execution_count": 38
        }
      ]
    },
    {
      "cell_type": "code",
      "metadata": {
        "id": "Asm49VpmkiIv"
      },
      "source": [
        "#normalize data\n",
        "scaler = MinMaxScaler(feature_range=(-1,1))\n",
        "scaled_data = scaler.fit_transform(chaos_df.values)"
      ],
      "execution_count": null,
      "outputs": []
    },
    {
      "cell_type": "code",
      "metadata": {
        "id": "xey-ikSMkiJT",
        "colab": {
          "base_uri": "https://localhost:8080/",
          "height": 238
        },
        "outputId": "2c022008-081b-4e20-d1da-b75249f21273"
      },
      "source": [
        "data_small = scaled_data[:10000]\n",
        "data_small"
      ],
      "execution_count": null,
      "outputs": [
        {
          "output_type": "execute_result",
          "data": {
            "text/plain": [
              "array([[-1.63308990e-01,  3.90806422e-01, -1.30601614e-01, ...,\n",
              "         2.63799899e-01, -2.31968033e-01,  1.27087305e-02],\n",
              "       [-1.37082800e-01,  3.91672635e-01, -1.29415551e-01, ...,\n",
              "         2.45688538e-01, -2.35111804e-01,  3.12882219e-02],\n",
              "       [-1.09271608e-01,  3.92042118e-01, -1.30040884e-01, ...,\n",
              "         2.26167659e-01, -2.37977591e-01,  4.86867175e-02],\n",
              "       ...,\n",
              "       [-6.21411443e-01,  7.29255281e-02,  6.78304882e-01, ...,\n",
              "        -3.29649210e-01,  3.35461019e-01,  5.40593206e-02],\n",
              "       [-6.14718909e-01,  3.68425173e-02,  7.05335756e-01, ...,\n",
              "        -3.17936378e-01,  3.37236912e-01,  3.72690666e-02],\n",
              "       [-6.08770755e-01, -5.62800420e-04,  7.27397850e-01, ...,\n",
              "        -3.06073959e-01,  3.39377504e-01,  2.01928066e-02]])"
            ]
          },
          "metadata": {
            "tags": []
          },
          "execution_count": 47
        }
      ]
    },
    {
      "cell_type": "code",
      "metadata": {
        "id": "kv-cyLFVkiJm"
      },
      "source": [
        "# split a multivariate sequence into samples\n",
        "def split_sequences(sequences, n_steps):\n",
        "    X, y = list(), list()\n",
        "    for i in range(len(sequences)):\n",
        "        # find the end of this pattern\n",
        "        end_ix = i + n_steps\n",
        "        # check if we are beyond the dataset\n",
        "        if end_ix > len(sequences):\n",
        "            break\n",
        "        # gather input and output parts of the pattern\n",
        "        seq_x = sequences[i:end_ix-1] \n",
        "        seq_y = sequences[end_ix-1]\n",
        "        X.append(seq_x)\n",
        "        y.append(seq_y)\n",
        "    return np.array(X), np.array(y)\n"
      ],
      "execution_count": null,
      "outputs": []
    },
    {
      "cell_type": "code",
      "metadata": {
        "id": "A7i_-AZYkiJp"
      },
      "source": [
        "class MV_LSTM(torch.nn.Module):\n",
        "    def __init__(self,n_features,seq_length):\n",
        "        super(MV_LSTM, self).__init__()\n",
        "        self.n_features = n_features\n",
        "        self.seq_len = seq_length\n",
        "        self.n_hidden = 150 # number of hidden states\n",
        "        self.n_layers = 1 # number of LSTM layers (stacked)\n",
        "    \n",
        "        self.l_lstm = torch.nn.LSTM(input_size = n_features, \n",
        "                                 hidden_size = self.n_hidden,\n",
        "                                 num_layers = self.n_layers, \n",
        "                                 batch_first = True)\n",
        "        # according to pytorch docs LSTM output is \n",
        "        # (batch_size,seq_len, num_directions * hidden_size)\n",
        "        # when considering batch_first = True\n",
        "        self.l_linear = torch.nn.Linear(in_features=self.n_hidden*(seq_length-1), out_features=40)\n",
        "        \n",
        "    \n",
        "    def init_hidden(self, batch_size):\n",
        "        # even with batch_first = True this remains same as docs\n",
        "        hidden_state = torch.zeros(self.n_layers,batch_size,self.n_hidden)\n",
        "        cell_state = torch.zeros(self.n_layers,batch_size,self.n_hidden)\n",
        "        self.hidden = (hidden_state, cell_state)\n",
        "    \n",
        "    \n",
        "    def forward(self, x):        \n",
        "        batch_size, seq_len,_ = x.size()\n",
        "        \n",
        "        lstm_out, self.hidden = self.l_lstm(x,self.hidden)\n",
        "        # lstm_out(with batch_first = True) is \n",
        "        # (batch_size,seq_len,num_directions * hidden_size)\n",
        "        # for following linear layer we want to keep batch_size dimension and merge rest       \n",
        "        # .contiguous() -> solves tensor compatibility error\n",
        "        x = lstm_out.contiguous().view(batch_size,-1)\n",
        "        return self.l_linear(x)"
      ],
      "execution_count": null,
      "outputs": []
    },
    {
      "cell_type": "code",
      "metadata": {
        "id": "4feJOd9JkiJt",
        "colab": {
          "base_uri": "https://localhost:8080/",
          "height": 34
        },
        "outputId": "5fe83cfe-b556-46ea-83af-262399d14e18"
      },
      "source": [
        "n_features = 40 # this is number of parallel inputs\n",
        "n_timesteps = 5 # this is number of timesteps\n",
        "\n",
        "# convert dataset into input/output\n",
        "X, y = split_sequences(data_small, n_timesteps)\n",
        "print(X.shape, y.shape)\n",
        "\n",
        "# create NN\n",
        "mv_net = MV_LSTM(n_features,n_timesteps)\n",
        "criterion = torch.nn.MSELoss() # reduction='sum' created huge loss value\n",
        "optimizer = torch.optim.Adam(mv_net.parameters(), lr=1e-1)\n"
      ],
      "execution_count": null,
      "outputs": [
        {
          "output_type": "stream",
          "text": [
            "(9996, 4, 40) (9996, 40)\n"
          ],
          "name": "stdout"
        }
      ]
    },
    {
      "cell_type": "code",
      "metadata": {
        "id": "o2x8EJO1uHco"
      },
      "source": [
        "batch_size = 4\n",
        "epochs = 50\n",
        "epochs = int(epochs)"
      ],
      "execution_count": null,
      "outputs": []
    },
    {
      "cell_type": "code",
      "metadata": {
        "id": "BLEMr2U_kiJx",
        "colab": {
          "base_uri": "https://localhost:8080/",
          "height": 1000
        },
        "outputId": "826ec52d-6adc-4991-af7b-11450c7a60ec"
      },
      "source": [
        "losses = []\n",
        "min_val_loss = np.Inf\n",
        "n_epochs_stop = 8\n",
        "early_stop = False\n",
        "\n",
        "mv_net.train()\n",
        "for t in tqdm(range(epochs)):\n",
        "  val_loss = 0\n",
        "  for b in range(len(X)):\n",
        "      inpt = X[b:b+batch_size,:,:]\n",
        "      target = y[b:b+batch_size]    \n",
        "      \n",
        "      optimizer.zero_grad()\n",
        "\n",
        "      x_batch = torch.tensor(inpt,dtype=torch.float32)    \n",
        "      y_batch = torch.tensor(target,dtype=torch.float32)\n",
        "  \n",
        "      mv_net.init_hidden(x_batch.size(0))\n",
        "      output = mv_net(x_batch) \n",
        "      loss = criterion(output, y_batch)  \n",
        "      \n",
        "      loss.backward()\n",
        "      optimizer.step() \n",
        "\n",
        "\n",
        "      if loss.item() < min_val_loss:\n",
        "        epochs_no_improve = 0\n",
        "        min_val_loss = loss.item()\n",
        "      else:\n",
        "        epochs_no_improve += 1\n",
        "      \n",
        "      if t > 5 and epochs_no_improve == n_epochs_stop:\n",
        "        print(\"Stopping early!\")\n",
        "        early_stop = True\n",
        "        break\n",
        "      else:\n",
        "        continue\n",
        "  if early_stop:\n",
        "      print(\"Stopped\")\n",
        "      break\n",
        "  print('\\nEpoch: ' , t , '; loss: ' , loss.item())\n",
        "  losses.append(loss.item())"
      ],
      "execution_count": null,
      "outputs": [
        {
          "output_type": "stream",
          "text": [
            "\n",
            "\n",
            "\n",
            "  0%|          | 0/50 [00:00<?, ?it/s]\u001b[A\u001b[A\u001b[A\n",
            "\n",
            "\n",
            "  2%|▏         | 1/50 [02:42<2:13:05, 162.98s/it]\u001b[A\u001b[A\u001b[A"
          ],
          "name": "stderr"
        },
        {
          "output_type": "stream",
          "text": [
            "\n",
            "Epoch:  0 ; loss:  0.00010597370419418439\n"
          ],
          "name": "stdout"
        },
        {
          "output_type": "stream",
          "text": [
            "\n",
            "\n",
            "\n",
            "  4%|▍         | 2/50 [05:34<2:12:19, 165.40s/it]\u001b[A\u001b[A\u001b[A"
          ],
          "name": "stderr"
        },
        {
          "output_type": "stream",
          "text": [
            "\n",
            "Epoch:  1 ; loss:  0.000133456225739792\n"
          ],
          "name": "stdout"
        },
        {
          "output_type": "stream",
          "text": [
            "\n",
            "\n",
            "\n",
            "  6%|▌         | 3/50 [08:30<2:12:13, 168.79s/it]\u001b[A\u001b[A\u001b[A"
          ],
          "name": "stderr"
        },
        {
          "output_type": "stream",
          "text": [
            "\n",
            "Epoch:  2 ; loss:  0.0002027570444624871\n"
          ],
          "name": "stdout"
        },
        {
          "output_type": "stream",
          "text": [
            "\n",
            "\n",
            "\n",
            "  8%|▊         | 4/50 [11:57<2:18:07, 180.16s/it]\u001b[A\u001b[A\u001b[A"
          ],
          "name": "stderr"
        },
        {
          "output_type": "stream",
          "text": [
            "\n",
            "Epoch:  3 ; loss:  0.0002166928316000849\n"
          ],
          "name": "stdout"
        },
        {
          "output_type": "stream",
          "text": [
            "\n",
            "\n",
            "\n",
            " 10%|█         | 5/50 [15:37<2:24:07, 192.17s/it]\u001b[A\u001b[A\u001b[A"
          ],
          "name": "stderr"
        },
        {
          "output_type": "stream",
          "text": [
            "\n",
            "Epoch:  4 ; loss:  0.0002342691004741937\n"
          ],
          "name": "stdout"
        },
        {
          "output_type": "stream",
          "text": [
            "\n",
            "\n",
            "\n",
            " 12%|█▏        | 6/50 [19:17<2:27:06, 200.60s/it]\u001b[A\u001b[A\u001b[A"
          ],
          "name": "stderr"
        },
        {
          "output_type": "stream",
          "text": [
            "\n",
            "Epoch:  5 ; loss:  0.00025775335961952806\n"
          ],
          "name": "stdout"
        },
        {
          "output_type": "stream",
          "text": [
            "\n",
            "\n",
            "\n",
            " 14%|█▍        | 7/50 [22:58<2:28:00, 206.51s/it]\u001b[A\u001b[A\u001b[A"
          ],
          "name": "stderr"
        },
        {
          "output_type": "stream",
          "text": [
            "\n",
            "Epoch:  6 ; loss:  0.0002857391373254359\n"
          ],
          "name": "stdout"
        },
        {
          "output_type": "stream",
          "text": [
            "\n",
            "\n",
            "\n",
            " 16%|█▌        | 8/50 [26:39<2:27:35, 210.84s/it]\u001b[A\u001b[A\u001b[A"
          ],
          "name": "stderr"
        },
        {
          "output_type": "stream",
          "text": [
            "\n",
            "Epoch:  7 ; loss:  0.0002848082804121077\n"
          ],
          "name": "stdout"
        },
        {
          "output_type": "stream",
          "text": [
            "\n",
            "\n",
            "\n",
            " 18%|█▊        | 9/50 [30:21<2:26:24, 214.26s/it]\u001b[A\u001b[A\u001b[A"
          ],
          "name": "stderr"
        },
        {
          "output_type": "stream",
          "text": [
            "\n",
            "Epoch:  8 ; loss:  0.00022076333698350936\n"
          ],
          "name": "stdout"
        },
        {
          "output_type": "stream",
          "text": [
            "\n",
            "\n",
            "\n",
            " 20%|██        | 10/50 [34:03<2:24:26, 216.67s/it]\u001b[A\u001b[A\u001b[A"
          ],
          "name": "stderr"
        },
        {
          "output_type": "stream",
          "text": [
            "\n",
            "Epoch:  9 ; loss:  0.0002164330508094281\n"
          ],
          "name": "stdout"
        },
        {
          "output_type": "stream",
          "text": [
            "\n",
            "\n",
            "\n",
            " 22%|██▏       | 11/50 [37:47<2:22:14, 218.83s/it]\u001b[A\u001b[A\u001b[A"
          ],
          "name": "stderr"
        },
        {
          "output_type": "stream",
          "text": [
            "\n",
            "Epoch:  10 ; loss:  0.00024286043480969965\n"
          ],
          "name": "stdout"
        },
        {
          "output_type": "stream",
          "text": [
            "\n",
            "\n",
            "\n",
            " 24%|██▍       | 12/50 [41:33<2:19:51, 220.83s/it]\u001b[A\u001b[A\u001b[A"
          ],
          "name": "stderr"
        },
        {
          "output_type": "stream",
          "text": [
            "\n",
            "Epoch:  11 ; loss:  0.00027401273837313056\n"
          ],
          "name": "stdout"
        },
        {
          "output_type": "stream",
          "text": [
            "\n",
            "\n",
            "\n",
            " 26%|██▌       | 13/50 [45:17<2:16:53, 221.98s/it]\u001b[A\u001b[A\u001b[A"
          ],
          "name": "stderr"
        },
        {
          "output_type": "stream",
          "text": [
            "\n",
            "Epoch:  12 ; loss:  2.8109741833759472e-05\n",
            "Stopping early!\n",
            "Stopped\n"
          ],
          "name": "stdout"
        }
      ]
    },
    {
      "cell_type": "code",
      "metadata": {
        "id": "lYuWmDfIn-lm",
        "colab": {
          "base_uri": "https://localhost:8080/",
          "height": 17
        },
        "outputId": "d9509eef-7120-491e-8583-945e278bfce1"
      },
      "source": [
        "from google.colab import files\n",
        "torch.save(mv_net.state_dict(), 'model2.pth')\n",
        "\n",
        "# download checkpoint file\n",
        "files.download('model2.pth')"
      ],
      "execution_count": null,
      "outputs": [
        {
          "output_type": "display_data",
          "data": {
            "application/javascript": [
              "\n",
              "    async function download(id, filename, size) {\n",
              "      if (!google.colab.kernel.accessAllowed) {\n",
              "        return;\n",
              "      }\n",
              "      const div = document.createElement('div');\n",
              "      const label = document.createElement('label');\n",
              "      label.textContent = `Downloading \"${filename}\": `;\n",
              "      div.appendChild(label);\n",
              "      const progress = document.createElement('progress');\n",
              "      progress.max = size;\n",
              "      div.appendChild(progress);\n",
              "      document.body.appendChild(div);\n",
              "\n",
              "      const buffers = [];\n",
              "      let downloaded = 0;\n",
              "\n",
              "      const channel = await google.colab.kernel.comms.open(id);\n",
              "      // Send a message to notify the kernel that we're ready.\n",
              "      channel.send({})\n",
              "\n",
              "      for await (const message of channel.messages) {\n",
              "        // Send a message to notify the kernel that we're ready.\n",
              "        channel.send({})\n",
              "        if (message.buffers) {\n",
              "          for (const buffer of message.buffers) {\n",
              "            buffers.push(buffer);\n",
              "            downloaded += buffer.byteLength;\n",
              "            progress.value = downloaded;\n",
              "          }\n",
              "        }\n",
              "      }\n",
              "      const blob = new Blob(buffers, {type: 'application/binary'});\n",
              "      const a = document.createElement('a');\n",
              "      a.href = window.URL.createObjectURL(blob);\n",
              "      a.download = filename;\n",
              "      div.appendChild(a);\n",
              "      a.click();\n",
              "      div.remove();\n",
              "    }\n",
              "  "
            ],
            "text/plain": [
              "<IPython.core.display.Javascript object>"
            ]
          },
          "metadata": {
            "tags": []
          }
        },
        {
          "output_type": "display_data",
          "data": {
            "application/javascript": [
              "download(\"download_54fb019b-8f56-491a-baea-e513b3587ab9\", \"model2.pth\", 559175)"
            ],
            "text/plain": [
              "<IPython.core.display.Javascript object>"
            ]
          },
          "metadata": {
            "tags": []
          }
        }
      ]
    },
    {
      "cell_type": "code",
      "metadata": {
        "id": "k0XDWk50bSqo",
        "colab": {
          "base_uri": "https://localhost:8080/",
          "height": 85
        },
        "outputId": "6c4713b6-66d1-451a-bfe1-1b650faf7e06"
      },
      "source": [
        "model = MV_LSTM(n_features, n_timesteps)\n",
        "model.load_state_dict(torch.load('model2.pth'))\n",
        "model.eval()"
      ],
      "execution_count": null,
      "outputs": [
        {
          "output_type": "execute_result",
          "data": {
            "text/plain": [
              "MV_LSTM(\n",
              "  (l_lstm): LSTM(40, 150, batch_first=True)\n",
              "  (l_linear): Linear(in_features=600, out_features=40, bias=True)\n",
              ")"
            ]
          },
          "metadata": {
            "tags": []
          },
          "execution_count": 60
        }
      ]
    },
    {
      "cell_type": "code",
      "metadata": {
        "id": "FimFOGsC1CS6"
      },
      "source": [
        "test_data = scaled_data[20000:25000]\n",
        "X_test, y_test = split_sequences(test_data, n_timesteps)"
      ],
      "execution_count": null,
      "outputs": []
    },
    {
      "cell_type": "code",
      "metadata": {
        "id": "9DJu7a5hojuP",
        "colab": {
          "base_uri": "https://localhost:8080/",
          "height": 1000
        },
        "outputId": "33b0b066-0ecb-4259-db1c-0977692e8c4e"
      },
      "source": [
        "accuracy = []\n",
        "for b in tqdm(range(len(X_test))):\n",
        "  inpt = X[b:b+1,:,:]\n",
        "  target = y[b:b+1]    \n",
        "  \n",
        "  x_batch = torch.tensor(inpt,dtype=torch.float32)    \n",
        "  y_batch = torch.tensor(target,dtype=torch.float32)\n",
        "\n",
        "  model.init_hidden(x_batch.size(0))\n",
        "  output = model(x_batch)\n",
        "\n",
        "  output = output.cpu().detach().numpy()\n",
        "  acc = []\n",
        "  for i,_ in enumerate(output):\n",
        "    acc.append(np.abs((output[i] - target[i])/target[i]))\n",
        "\n",
        "  rolling_acc = np.sum(acc)/40\n",
        "  accuracy.append(rolling_acc)\n",
        "  "
      ],
      "execution_count": null,
      "outputs": [
        {
          "output_type": "stream",
          "text": [
            "\n",
            "\n",
            "\n",
            "\n",
            "  0%|          | 0/4996 [00:00<?, ?it/s]\u001b[A\u001b[A\u001b[A\u001b[A\n",
            "\n",
            "\n",
            "\n",
            "  3%|▎         | 142/4996 [00:00<00:03, 1411.39it/s]\u001b[A\u001b[A\u001b[A\u001b[A\n",
            "\n",
            "\n",
            "\n",
            "  5%|▌         | 252/4996 [00:00<00:03, 1298.72it/s]\u001b[A\u001b[A\u001b[A\u001b[A\n",
            "\n",
            "\n",
            "\n",
            "  8%|▊         | 376/4996 [00:00<00:03, 1278.17it/s]\u001b[A\u001b[A\u001b[A\u001b[A\n",
            "\n",
            "\n",
            "\n",
            " 10%|▉         | 492/4996 [00:00<00:03, 1237.45it/s]\u001b[A\u001b[A\u001b[A\u001b[A\n",
            "\n",
            "\n",
            "\n",
            " 12%|█▏        | 610/4996 [00:00<00:03, 1216.26it/s]\u001b[A\u001b[A\u001b[A\u001b[A\n",
            "\n",
            "\n",
            "\n",
            " 14%|█▍        | 717/4996 [00:00<00:03, 1166.88it/s]\u001b[A\u001b[A\u001b[A\u001b[A\n",
            "\n",
            "\n",
            "\n",
            " 16%|█▋        | 823/4996 [00:00<00:03, 1132.23it/s]\u001b[A\u001b[A\u001b[A\u001b[A\n",
            "\n",
            "\n",
            "\n",
            " 19%|█▉        | 942/4996 [00:00<00:03, 1148.31it/s]\u001b[A\u001b[A\u001b[A\u001b[A\n",
            "\n",
            "\n",
            "\n",
            " 21%|██        | 1050/4996 [00:00<00:03, 1121.26it/s]\u001b[A\u001b[A\u001b[A\u001b[A\n",
            "\n",
            "\n",
            "\n",
            " 23%|██▎       | 1158/4996 [00:01<00:03, 1047.04it/s]\u001b[A\u001b[A\u001b[A\u001b[A\n",
            "\n",
            "\n",
            "\n",
            " 26%|██▌       | 1287/4996 [00:01<00:03, 1109.06it/s]\u001b[A\u001b[A\u001b[A\u001b[A\n",
            "\n",
            "\n",
            "\n",
            " 28%|██▊       | 1406/4996 [00:01<00:03, 1129.80it/s]\u001b[A\u001b[A\u001b[A\u001b[A\n",
            "\n",
            "\n",
            "\n",
            " 30%|███       | 1523/4996 [00:01<00:03, 1138.11it/s]\u001b[A\u001b[A\u001b[A\u001b[A\n",
            "\n",
            "\n",
            "\n",
            " 33%|███▎      | 1637/4996 [00:01<00:02, 1128.04it/s]\u001b[A\u001b[A\u001b[A\u001b[A\n",
            "\n",
            "\n",
            "\n",
            " 35%|███▌      | 1754/4996 [00:01<00:02, 1138.52it/s]\u001b[A\u001b[A\u001b[A\u001b[A\n",
            "\n",
            "\n",
            "\n",
            " 38%|███▊      | 1879/4996 [00:01<00:02, 1168.14it/s]\u001b[A\u001b[A\u001b[A\u001b[A\n",
            "\n",
            "\n",
            "\n",
            " 40%|███▉      | 1996/4996 [00:01<00:02, 1152.22it/s]\u001b[A\u001b[A\u001b[A\u001b[A\n",
            "\n",
            "\n",
            "\n",
            " 42%|████▏     | 2112/4996 [00:01<00:02, 1154.16it/s]\u001b[A\u001b[A\u001b[A\u001b[A\n",
            "\n",
            "\n",
            "\n",
            " 45%|████▍     | 2230/4996 [00:01<00:02, 1160.78it/s]\u001b[A\u001b[A\u001b[A\u001b[A\n",
            "\n",
            "\n",
            "\n",
            " 47%|████▋     | 2348/4996 [00:02<00:02, 1166.26it/s]\u001b[A\u001b[A\u001b[A\u001b[A\n",
            "\n",
            "\n",
            "\n",
            " 49%|████▉     | 2465/4996 [00:02<00:02, 1148.99it/s]\u001b[A\u001b[A\u001b[A\u001b[A\n",
            "\n",
            "\n",
            "\n",
            " 52%|█████▏    | 2593/4996 [00:02<00:02, 1183.47it/s]\u001b[A\u001b[A\u001b[A\u001b[A\n",
            "\n",
            "\n",
            "\n",
            " 54%|█████▍    | 2714/4996 [00:02<00:01, 1188.97it/s]\u001b[A\u001b[A\u001b[A\u001b[A\n",
            "\n",
            "\n",
            "\n",
            " 57%|█████▋    | 2834/4996 [00:02<00:01, 1095.01it/s]\u001b[A\u001b[A\u001b[A\u001b[A\n",
            "\n",
            "\n",
            "\n",
            " 59%|█████▉    | 2946/4996 [00:02<00:01, 1098.44it/s]\u001b[A\u001b[A\u001b[A\u001b[A\n",
            "\n",
            "\n",
            "\n",
            " 61%|██████▏   | 3063/4996 [00:02<00:01, 1118.02it/s]\u001b[A\u001b[A\u001b[A\u001b[A\n",
            "\n",
            "\n",
            "\n",
            " 64%|██████▎   | 3184/4996 [00:02<00:01, 1140.35it/s]\u001b[A\u001b[A\u001b[A\u001b[A\n",
            "\n",
            "\n",
            "\n",
            " 66%|██████▌   | 3299/4996 [00:02<00:01, 1093.88it/s]\u001b[A\u001b[A\u001b[A\u001b[A\n",
            "\n",
            "\n",
            "\n",
            " 68%|██████▊   | 3410/4996 [00:03<00:01, 1062.72it/s]\u001b[A\u001b[A\u001b[A\u001b[A\n",
            "\n",
            "\n",
            "\n",
            " 71%|███████   | 3546/4996 [00:03<00:01, 1137.10it/s]\u001b[A\u001b[A\u001b[A\u001b[A\n",
            "\n",
            "\n",
            "\n",
            " 73%|███████▎  | 3663/4996 [00:03<00:01, 1146.37it/s]\u001b[A\u001b[A\u001b[A\u001b[A\n",
            "\n",
            "\n",
            "\n",
            " 76%|███████▌  | 3780/4996 [00:03<00:01, 1100.13it/s]\u001b[A\u001b[A\u001b[A\u001b[A\n",
            "\n",
            "\n",
            "\n",
            " 78%|███████▊  | 3895/4996 [00:03<00:00, 1114.38it/s]\u001b[A\u001b[A\u001b[A\u001b[A\n",
            "\n",
            "\n",
            "\n",
            " 80%|████████  | 4021/4996 [00:03<00:00, 1153.27it/s]\u001b[A\u001b[A\u001b[A\u001b[A\n",
            "\n",
            "\n",
            "\n",
            " 83%|████████▎ | 4138/4996 [00:03<00:00, 1123.38it/s]\u001b[A\u001b[A\u001b[A\u001b[A\n",
            "\n",
            "\n",
            "\n",
            " 85%|████████▌ | 4260/4996 [00:03<00:00, 1148.96it/s]\u001b[A\u001b[A\u001b[A\u001b[A\n",
            "\n",
            "\n",
            "\n",
            " 88%|████████▊ | 4379/4996 [00:03<00:00, 1158.96it/s]\u001b[A\u001b[A\u001b[A\u001b[A\n",
            "\n",
            "\n",
            "\n",
            " 90%|█████████ | 4500/4996 [00:03<00:00, 1172.16it/s]\u001b[A\u001b[A\u001b[A\u001b[A\n",
            "\n",
            "\n",
            "\n",
            " 92%|█████████▏| 4618/4996 [00:04<00:00, 1167.74it/s]\u001b[A\u001b[A\u001b[A\u001b[A\n",
            "\n",
            "\n",
            "\n",
            " 95%|█████████▌| 4753/4996 [00:04<00:00, 1214.28it/s]\u001b[A\u001b[A\u001b[A\u001b[A\n",
            "\n",
            "\n",
            "\n",
            "100%|██████████| 4996/4996 [00:04<00:00, 1152.92it/s]\n"
          ],
          "name": "stderr"
        }
      ]
    },
    {
      "cell_type": "code",
      "metadata": {
        "id": "6hQYPLSwgVLl",
        "colab": {
          "base_uri": "https://localhost:8080/",
          "height": 34
        },
        "outputId": "2d3f48d4-4e08-4746-ddd1-337cbd70d0f0"
      },
      "source": [
        "print(\"Accuracy =\", 100 - np.sum(accuracy)/len(X_test))"
      ],
      "execution_count": null,
      "outputs": [
        {
          "output_type": "stream",
          "text": [
            "Accuracy = 94.30745294872804\n"
          ],
          "name": "stdout"
        }
      ]
    },
    {
      "cell_type": "code",
      "metadata": {
        "id": "41kd-IeIgbrV"
      },
      "source": [
        ""
      ],
      "execution_count": null,
      "outputs": []
    }
  ]
}