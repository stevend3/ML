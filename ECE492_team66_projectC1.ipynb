{
  "nbformat": 4,
  "nbformat_minor": 0,
  "metadata": {
    "colab": {
      "provenance": [],
      "authorship_tag": "ABX9TyOf0plZRPRJDTWTszDIc5C4",
      "include_colab_link": true
    },
    "kernelspec": {
      "name": "python3",
      "display_name": "Python 3"
    },
    "language_info": {
      "name": "python"
    }
  },
  "cells": [
    {
      "cell_type": "markdown",
      "metadata": {
        "id": "view-in-github",
        "colab_type": "text"
      },
      "source": [
        "<a href=\"https://colab.research.google.com/github/stevend3/ML/blob/master/ECE492_team66_projectC1.ipynb\" target=\"_parent\"><img src=\"https://colab.research.google.com/assets/colab-badge.svg\" alt=\"Open In Colab\"/></a>"
      ]
    },
    {
      "cell_type": "markdown",
      "source": [
        "# Project C1\n",
        "## Team 66"
      ],
      "metadata": {
        "id": "lqmk7oubJmEF"
      }
    },
    {
      "cell_type": "code",
      "execution_count": 2,
      "metadata": {
        "colab": {
          "base_uri": "https://localhost:8080/"
        },
        "id": "QolQdPKngGY9",
        "outputId": "1c12ba23-f4a4-4136-eb54-c5ecffff48da"
      },
      "outputs": [
        {
          "output_type": "stream",
          "name": "stdout",
          "text": [
            "Mounted at /content/drive/\n"
          ]
        }
      ],
      "source": [
        "# connect this notebook to google drive\n",
        "from google.colab import drive\n",
        "drive.mount('/content/drive/')"
      ]
    },
    {
      "cell_type": "markdown",
      "source": [
        "For the next line to work, go to Moodle, click the dataset link under `ProjC - Competition Project`. That will open up the data in Google Drive. Then, right click the folder name at the top of the screen and click `Add shortcut to Drive`. Navigate into `My Drive` and select the button in the bottom left of the pop-up window (it should be a folder with a plus sign in it). You will now be able to make a new folder. It must be titled `ECE492`. Finally, hit the `Add Shortcut` button. If this does not work, send me a slack message, and I can help debug."
      ],
      "metadata": {
        "id": "cmvwds7mId2G"
      }
    },
    {
      "cell_type": "code",
      "source": [
        "cd '/content/drive/MyDrive/ECE492/ECE542_sp2022_Project_TerrainRecognition/'"
      ],
      "metadata": {
        "colab": {
          "base_uri": "https://localhost:8080/"
        },
        "id": "1LLZQcCehRRK",
        "outputId": "48aa4267-cae6-4a6b-9adb-bfe10f880780"
      },
      "execution_count": 3,
      "outputs": [
        {
          "output_type": "stream",
          "name": "stdout",
          "text": [
            "/content/drive/.shortcut-targets-by-id/15qAg_VhIEGRIBGc6Uwr-dQssTLlpRNoO/ECE542_sp2022_Project_TerrainRecognition\n"
          ]
        }
      ]
    },
    {
      "cell_type": "code",
      "source": [
        "!ls"
      ],
      "metadata": {
        "colab": {
          "base_uri": "https://localhost:8080/"
        },
        "id": "w8-xiC1nhzXS",
        "outputId": "a542b17a-9755-4214-cb28-75131790dfd6"
      },
      "execution_count": 4,
      "outputs": [
        {
          "output_type": "stream",
          "name": "stdout",
          "text": [
            "ReadMe.txt  TestData  TrainingData  XVisualizeData.m\n"
          ]
        }
      ]
    },
    {
      "cell_type": "code",
      "source": [
        "cd './TrainingData'"
      ],
      "metadata": {
        "colab": {
          "base_uri": "https://localhost:8080/"
        },
        "id": "WgUYkkgZono_",
        "outputId": "cc2ee9c8-010f-4452-cc30-19235975bca3"
      },
      "execution_count": 5,
      "outputs": [
        {
          "output_type": "stream",
          "name": "stdout",
          "text": [
            "/content/drive/.shortcut-targets-by-id/15qAg_VhIEGRIBGc6Uwr-dQssTLlpRNoO/ECE542_sp2022_Project_TerrainRecognition/TrainingData\n"
          ]
        }
      ]
    },
    {
      "cell_type": "code",
      "source": [
        "!ls"
      ],
      "metadata": {
        "colab": {
          "base_uri": "https://localhost:8080/"
        },
        "id": "lxG-Eszpo46N",
        "outputId": "67492ad6-adeb-4885-ab1c-ac50888dfcbf"
      },
      "execution_count": 6,
      "outputs": [
        {
          "output_type": "stream",
          "name": "stdout",
          "text": [
            "subject_001_01__x.csv\t    subject_003_02__y.csv\n",
            "subject_001_01__x_time.csv  subject_003_02__y_time.csv\n",
            "subject_001_01__y.csv\t    subject_003_03__x.csv\n",
            "subject_001_01__y_time.csv  subject_003_03__x_time.csv\n",
            "subject_001_02__x.csv\t    subject_003_03__y.csv\n",
            "subject_001_02__x_time.csv  subject_003_03__y_time.csv\n",
            "subject_001_02__y.csv\t    subject_004_01__x.csv\n",
            "subject_001_02__y_time.csv  subject_004_01__x_time.csv\n",
            "subject_001_03__x.csv\t    subject_004_01__y.csv\n",
            "subject_001_03__x_time.csv  subject_004_01__y_time.csv\n",
            "subject_001_03__y.csv\t    subject_004_02__x.csv\n",
            "subject_001_03__y_time.csv  subject_004_02__x_time.csv\n",
            "subject_001_04__x.csv\t    subject_004_02__y.csv\n",
            "subject_001_04__x_time.csv  subject_004_02__y_time.csv\n",
            "subject_001_04__y.csv\t    subject_005_01__x.csv\n",
            "subject_001_04__y_time.csv  subject_005_01__x_time.csv\n",
            "subject_001_05__x.csv\t    subject_005_01__y.csv\n",
            "subject_001_05__x_time.csv  subject_005_01__y_time.csv\n",
            "subject_001_05__y.csv\t    subject_005_02__x.csv\n",
            "subject_001_05__y_time.csv  subject_005_02__x_time.csv\n",
            "subject_001_06__x.csv\t    subject_005_02__y.csv\n",
            "subject_001_06__x_time.csv  subject_005_02__y_time.csv\n",
            "subject_001_06__y.csv\t    subject_005_03__x.csv\n",
            "subject_001_06__y_time.csv  subject_005_03__x_time.csv\n",
            "subject_001_07__x.csv\t    subject_005_03__y.csv\n",
            "subject_001_07__x_time.csv  subject_005_03__y_time.csv\n",
            "subject_001_07__y.csv\t    subject_006_01__x.csv\n",
            "subject_001_07__y_time.csv  subject_006_01__x_time.csv\n",
            "subject_001_08__x.csv\t    subject_006_01__y.csv\n",
            "subject_001_08__x_time.csv  subject_006_01__y_time.csv\n",
            "subject_001_08__y.csv\t    subject_006_02__x.csv\n",
            "subject_001_08__y_time.csv  subject_006_02__x_time.csv\n",
            "subject_002_01__x.csv\t    subject_006_02__y.csv\n",
            "subject_002_01__x_time.csv  subject_006_02__y_time.csv\n",
            "subject_002_01__y.csv\t    subject_006_03__x.csv\n",
            "subject_002_01__y_time.csv  subject_006_03__x_time.csv\n",
            "subject_002_02__x.csv\t    subject_006_03__y.csv\n",
            "subject_002_02__x_time.csv  subject_006_03__y_time.csv\n",
            "subject_002_02__y.csv\t    subject_007_01__x.csv\n",
            "subject_002_02__y_time.csv  subject_007_01__x_time.csv\n",
            "subject_002_03__x.csv\t    subject_007_01__y.csv\n",
            "subject_002_03__x_time.csv  subject_007_01__y_time.csv\n",
            "subject_002_03__y.csv\t    subject_007_02__x.csv\n",
            "subject_002_03__y_time.csv  subject_007_02__x_time.csv\n",
            "subject_002_04__x.csv\t    subject_007_02__y.csv\n",
            "subject_002_04__x_time.csv  subject_007_02__y_time.csv\n",
            "subject_002_04__y.csv\t    subject_007_03__x.csv\n",
            "subject_002_04__y_time.csv  subject_007_03__x_time.csv\n",
            "subject_002_05__x.csv\t    subject_007_03__y.csv\n",
            "subject_002_05__x_time.csv  subject_007_03__y_time.csv\n",
            "subject_002_05__y.csv\t    subject_007_04__x.csv\n",
            "subject_002_05__y_time.csv  subject_007_04__x_time.csv\n",
            "subject_003_01__x.csv\t    subject_007_04__y.csv\n",
            "subject_003_01__x_time.csv  subject_007_04__y_time.csv\n",
            "subject_003_01__y.csv\t    subject_008_01__x.csv\n",
            "subject_003_01__y_time.csv  subject_008_01__x_time.csv\n",
            "subject_003_02__x.csv\t    subject_008_01__y.csv\n",
            "subject_003_02__x_time.csv  subject_008_01__y_time.csv\n"
          ]
        }
      ]
    },
    {
      "cell_type": "code",
      "source": [
        "import pandas as pd\n",
        "import numpy as np\n",
        "import os\n",
        "\n",
        "# create lists of file names for the data and labels\n",
        "data_files = []\n",
        "label_files = []\n",
        "for file in os.listdir('./'):\n",
        "  if file.endswith(\"y.csv\"):\n",
        "    label_files.append(file)\n",
        "  elif file.endswith(\"x.csv\"):\n",
        "    data_files.append(file)\n",
        "\n",
        "# sort the file names to keep all the data in chronological order\n",
        "data_files.sort()\n",
        "label_files.sort()\n",
        "\n",
        "# make lists of the data from each csv\n",
        "data_dfs = []\n",
        "label_dfs = []\n",
        "for i in range(len(data_files)):\n",
        "  # load in the data and labels\n",
        "  data_df = pd.read_csv(data_files[28], header=0, names=[\"accx\", \"accy\", \"accz\", \"gyrox\", \"gyroy\", \"gyroz\"])\n",
        "  label_df = pd.read_csv(label_files[28], header=0, names=[\"y\"])\n",
        "\n",
        "  # repeat every label 4 times to account for the difference in sampling rate\n",
        "  label_df = label_df.loc[label_df.index.repeat(4)].reset_index(drop=True)\n",
        "\n",
        "  # check the sizes of the dataframes\n",
        "  len_diff = len(data_df) - len(label_df)\n",
        "  # if lens are not same, repeat the last label until the lens are equal\n",
        "  if len_diff != 0:\n",
        "    label_vals = label_df.values.tolist()\n",
        "    repeated_last_row = [label_df.iloc[-1][\"y\"] for i in range(len_diff)]\n",
        "    label_vals.append(repeated_last_row)\n",
        "    label_df = pd.DataFrame(label_vals, columns=[\"y\"])  \n",
        "\n",
        "  # append the dfs to the list of dfs\n",
        "  data_dfs.append(data_df)\n",
        "  label_dfs.append(label_df)\n",
        "\n",
        "# turn the list of dfs into our data\n",
        "df_data = pd.concat(data_dfs, ignore_index=True)\n",
        "df_labels = pd.concat(label_dfs, ignore_index=True)\n",
        "\n",
        "df_train = pd.concat([df_data, df_labels], axis=1)\n",
        "df_train"
      ],
      "metadata": {
        "colab": {
          "base_uri": "https://localhost:8080/",
          "height": 424
        },
        "id": "neW8HLvc3xmo",
        "outputId": "c4028fe9-e732-41b0-ac93-ed01ca8fb4c8"
      },
      "execution_count": 64,
      "outputs": [
        {
          "output_type": "execute_result",
          "data": {
            "text/plain": [
              "             accx      accy      accz     gyrox     gyroy     gyroz  y\n",
              "0        1.343451  9.393098 -2.520354 -0.000866 -0.001356  0.000000  0\n",
              "1        1.322976  9.380536 -2.521071  0.000783  0.001976  0.001275  0\n",
              "2        1.330000  9.386873 -2.500309 -0.003865 -0.001786  0.002706  0\n",
              "3        1.346465  9.390606 -2.522929 -0.000782 -0.000864  0.003169  0\n",
              "4        1.356462  9.392924 -2.542924  0.000565  0.003899  0.003879  0\n",
              "...           ...       ...       ...       ...       ...       ... ..\n",
              "1395968  2.072244  8.908878 -3.500000  0.001351  0.001191  0.001031  0\n",
              "1395969  2.085123  8.915123 -3.520000  0.001918 -0.001147  0.000000  0\n",
              "1395970  2.083774  8.910000 -3.538981 -0.002015 -0.004099  0.001042  0\n",
              "1395971  2.111447  8.908553 -3.535724  0.000183 -0.001673  0.001856  0\n",
              "1395972  2.087730  8.900000 -3.518865  0.000052 -0.001267  0.000000  0\n",
              "\n",
              "[1395973 rows x 7 columns]"
            ],
            "text/html": [
              "\n",
              "  <div id=\"df-71101d86-35d5-433d-936f-8db50e142729\">\n",
              "    <div class=\"colab-df-container\">\n",
              "      <div>\n",
              "<style scoped>\n",
              "    .dataframe tbody tr th:only-of-type {\n",
              "        vertical-align: middle;\n",
              "    }\n",
              "\n",
              "    .dataframe tbody tr th {\n",
              "        vertical-align: top;\n",
              "    }\n",
              "\n",
              "    .dataframe thead th {\n",
              "        text-align: right;\n",
              "    }\n",
              "</style>\n",
              "<table border=\"1\" class=\"dataframe\">\n",
              "  <thead>\n",
              "    <tr style=\"text-align: right;\">\n",
              "      <th></th>\n",
              "      <th>accx</th>\n",
              "      <th>accy</th>\n",
              "      <th>accz</th>\n",
              "      <th>gyrox</th>\n",
              "      <th>gyroy</th>\n",
              "      <th>gyroz</th>\n",
              "      <th>y</th>\n",
              "    </tr>\n",
              "  </thead>\n",
              "  <tbody>\n",
              "    <tr>\n",
              "      <th>0</th>\n",
              "      <td>1.343451</td>\n",
              "      <td>9.393098</td>\n",
              "      <td>-2.520354</td>\n",
              "      <td>-0.000866</td>\n",
              "      <td>-0.001356</td>\n",
              "      <td>0.000000</td>\n",
              "      <td>0</td>\n",
              "    </tr>\n",
              "    <tr>\n",
              "      <th>1</th>\n",
              "      <td>1.322976</td>\n",
              "      <td>9.380536</td>\n",
              "      <td>-2.521071</td>\n",
              "      <td>0.000783</td>\n",
              "      <td>0.001976</td>\n",
              "      <td>0.001275</td>\n",
              "      <td>0</td>\n",
              "    </tr>\n",
              "    <tr>\n",
              "      <th>2</th>\n",
              "      <td>1.330000</td>\n",
              "      <td>9.386873</td>\n",
              "      <td>-2.500309</td>\n",
              "      <td>-0.003865</td>\n",
              "      <td>-0.001786</td>\n",
              "      <td>0.002706</td>\n",
              "      <td>0</td>\n",
              "    </tr>\n",
              "    <tr>\n",
              "      <th>3</th>\n",
              "      <td>1.346465</td>\n",
              "      <td>9.390606</td>\n",
              "      <td>-2.522929</td>\n",
              "      <td>-0.000782</td>\n",
              "      <td>-0.000864</td>\n",
              "      <td>0.003169</td>\n",
              "      <td>0</td>\n",
              "    </tr>\n",
              "    <tr>\n",
              "      <th>4</th>\n",
              "      <td>1.356462</td>\n",
              "      <td>9.392924</td>\n",
              "      <td>-2.542924</td>\n",
              "      <td>0.000565</td>\n",
              "      <td>0.003899</td>\n",
              "      <td>0.003879</td>\n",
              "      <td>0</td>\n",
              "    </tr>\n",
              "    <tr>\n",
              "      <th>...</th>\n",
              "      <td>...</td>\n",
              "      <td>...</td>\n",
              "      <td>...</td>\n",
              "      <td>...</td>\n",
              "      <td>...</td>\n",
              "      <td>...</td>\n",
              "      <td>...</td>\n",
              "    </tr>\n",
              "    <tr>\n",
              "      <th>1395968</th>\n",
              "      <td>2.072244</td>\n",
              "      <td>8.908878</td>\n",
              "      <td>-3.500000</td>\n",
              "      <td>0.001351</td>\n",
              "      <td>0.001191</td>\n",
              "      <td>0.001031</td>\n",
              "      <td>0</td>\n",
              "    </tr>\n",
              "    <tr>\n",
              "      <th>1395969</th>\n",
              "      <td>2.085123</td>\n",
              "      <td>8.915123</td>\n",
              "      <td>-3.520000</td>\n",
              "      <td>0.001918</td>\n",
              "      <td>-0.001147</td>\n",
              "      <td>0.000000</td>\n",
              "      <td>0</td>\n",
              "    </tr>\n",
              "    <tr>\n",
              "      <th>1395970</th>\n",
              "      <td>2.083774</td>\n",
              "      <td>8.910000</td>\n",
              "      <td>-3.538981</td>\n",
              "      <td>-0.002015</td>\n",
              "      <td>-0.004099</td>\n",
              "      <td>0.001042</td>\n",
              "      <td>0</td>\n",
              "    </tr>\n",
              "    <tr>\n",
              "      <th>1395971</th>\n",
              "      <td>2.111447</td>\n",
              "      <td>8.908553</td>\n",
              "      <td>-3.535724</td>\n",
              "      <td>0.000183</td>\n",
              "      <td>-0.001673</td>\n",
              "      <td>0.001856</td>\n",
              "      <td>0</td>\n",
              "    </tr>\n",
              "    <tr>\n",
              "      <th>1395972</th>\n",
              "      <td>2.087730</td>\n",
              "      <td>8.900000</td>\n",
              "      <td>-3.518865</td>\n",
              "      <td>0.000052</td>\n",
              "      <td>-0.001267</td>\n",
              "      <td>0.000000</td>\n",
              "      <td>0</td>\n",
              "    </tr>\n",
              "  </tbody>\n",
              "</table>\n",
              "<p>1395973 rows × 7 columns</p>\n",
              "</div>\n",
              "      <button class=\"colab-df-convert\" onclick=\"convertToInteractive('df-71101d86-35d5-433d-936f-8db50e142729')\"\n",
              "              title=\"Convert this dataframe to an interactive table.\"\n",
              "              style=\"display:none;\">\n",
              "        \n",
              "  <svg xmlns=\"http://www.w3.org/2000/svg\" height=\"24px\"viewBox=\"0 0 24 24\"\n",
              "       width=\"24px\">\n",
              "    <path d=\"M0 0h24v24H0V0z\" fill=\"none\"/>\n",
              "    <path d=\"M18.56 5.44l.94 2.06.94-2.06 2.06-.94-2.06-.94-.94-2.06-.94 2.06-2.06.94zm-11 1L8.5 8.5l.94-2.06 2.06-.94-2.06-.94L8.5 2.5l-.94 2.06-2.06.94zm10 10l.94 2.06.94-2.06 2.06-.94-2.06-.94-.94-2.06-.94 2.06-2.06.94z\"/><path d=\"M17.41 7.96l-1.37-1.37c-.4-.4-.92-.59-1.43-.59-.52 0-1.04.2-1.43.59L10.3 9.45l-7.72 7.72c-.78.78-.78 2.05 0 2.83L4 21.41c.39.39.9.59 1.41.59.51 0 1.02-.2 1.41-.59l7.78-7.78 2.81-2.81c.8-.78.8-2.07 0-2.86zM5.41 20L4 18.59l7.72-7.72 1.47 1.35L5.41 20z\"/>\n",
              "  </svg>\n",
              "      </button>\n",
              "      \n",
              "  <style>\n",
              "    .colab-df-container {\n",
              "      display:flex;\n",
              "      flex-wrap:wrap;\n",
              "      gap: 12px;\n",
              "    }\n",
              "\n",
              "    .colab-df-convert {\n",
              "      background-color: #E8F0FE;\n",
              "      border: none;\n",
              "      border-radius: 50%;\n",
              "      cursor: pointer;\n",
              "      display: none;\n",
              "      fill: #1967D2;\n",
              "      height: 32px;\n",
              "      padding: 0 0 0 0;\n",
              "      width: 32px;\n",
              "    }\n",
              "\n",
              "    .colab-df-convert:hover {\n",
              "      background-color: #E2EBFA;\n",
              "      box-shadow: 0px 1px 2px rgba(60, 64, 67, 0.3), 0px 1px 3px 1px rgba(60, 64, 67, 0.15);\n",
              "      fill: #174EA6;\n",
              "    }\n",
              "\n",
              "    [theme=dark] .colab-df-convert {\n",
              "      background-color: #3B4455;\n",
              "      fill: #D2E3FC;\n",
              "    }\n",
              "\n",
              "    [theme=dark] .colab-df-convert:hover {\n",
              "      background-color: #434B5C;\n",
              "      box-shadow: 0px 1px 3px 1px rgba(0, 0, 0, 0.15);\n",
              "      filter: drop-shadow(0px 1px 2px rgba(0, 0, 0, 0.3));\n",
              "      fill: #FFFFFF;\n",
              "    }\n",
              "  </style>\n",
              "\n",
              "      <script>\n",
              "        const buttonEl =\n",
              "          document.querySelector('#df-71101d86-35d5-433d-936f-8db50e142729 button.colab-df-convert');\n",
              "        buttonEl.style.display =\n",
              "          google.colab.kernel.accessAllowed ? 'block' : 'none';\n",
              "\n",
              "        async function convertToInteractive(key) {\n",
              "          const element = document.querySelector('#df-71101d86-35d5-433d-936f-8db50e142729');\n",
              "          const dataTable =\n",
              "            await google.colab.kernel.invokeFunction('convertToInteractive',\n",
              "                                                     [key], {});\n",
              "          if (!dataTable) return;\n",
              "\n",
              "          const docLinkHtml = 'Like what you see? Visit the ' +\n",
              "            '<a target=\"_blank\" href=https://colab.research.google.com/notebooks/data_table.ipynb>data table notebook</a>'\n",
              "            + ' to learn more about interactive tables.';\n",
              "          element.innerHTML = '';\n",
              "          dataTable['output_type'] = 'display_data';\n",
              "          await google.colab.output.renderOutput(dataTable, element);\n",
              "          const docLink = document.createElement('div');\n",
              "          docLink.innerHTML = docLinkHtml;\n",
              "          element.appendChild(docLink);\n",
              "        }\n",
              "      </script>\n",
              "    </div>\n",
              "  </div>\n",
              "  "
            ]
          },
          "metadata": {},
          "execution_count": 64
        }
      ]
    },
    {
      "cell_type": "code",
      "source": [
        "import matplotlib.pyplot as plt\n",
        "\n",
        "plt.hist(df_train[\"y\"], bins=3, density=True)\n",
        "plt.xlabel(\"Terrain Type\")\n",
        "plt.ylabel(\"Frequency\")\n",
        "plt.title(\"Histogram of Frequency of Terrain Type in Training Data\")"
      ],
      "metadata": {
        "colab": {
          "base_uri": "https://localhost:8080/",
          "height": 312
        },
        "id": "wpqIZtEVG0PE",
        "outputId": "48145f9c-1ccf-4d78-e0da-6152d30e7834"
      },
      "execution_count": 67,
      "outputs": [
        {
          "output_type": "execute_result",
          "data": {
            "text/plain": [
              "Text(0.5, 1.0, 'Histogram of Frequency of Terrain Type in Training Data')"
            ]
          },
          "metadata": {},
          "execution_count": 67
        },
        {
          "output_type": "display_data",
          "data": {
            "text/plain": [
              "<Figure size 432x288 with 1 Axes>"
            ],
            "image/png": "[encoded data removed]"
          },
          "metadata": {
            "needs_background": "light"
          }
        }
      ]
    },
    {
      "cell_type": "code",
      "source": [],
      "metadata": {
        "id": "jPF_z2rSHTUq"
      },
      "execution_count": null,
      "outputs": []
    }
  ]
}